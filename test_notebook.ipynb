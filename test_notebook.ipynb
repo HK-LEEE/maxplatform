{
  "cells": [
    {
      "cell_type": "code",
      "execution_count": null,
      "metadata": {
        "vscode": {
          "languageId": "plaintext"
        }
      },
      "outputs": [],
      "source": [
        "# 데이터 분석 예제\n",
        "\n",
        "이 노트북은 간단한 데이터 분석 예제를 보여줍니다.\n"
      ]
    },
    {
      "cell_type": "code",
      "execution_count": null,
      "metadata": {},
      "outputs": [],
      "source": [
        "import pandas as pd\n",
        "import numpy as np\n",
        "import matplotlib.pyplot as plt\n",
        "\n",
        "# 샘플 데이터 생성\n",
        "data = {\n",
        "    'name': ['Alice', 'Bob', 'Charlie', 'David'],\n",
        "    'age': [25, 30, 35, 28],\n",
        "    'salary': [50000, 60000, 70000, 55000]\n",
        "}\n",
        "\n",
        "df = pd.DataFrame(data)\n",
        "print(df)\n"
      ]
    },
    {
      "cell_type": "code",
      "execution_count": null,
      "metadata": {},
      "outputs": [],
      "source": [
        "# 기본 통계 정보\n",
        "print(\"데이터 요약:\")\n",
        "print(df.describe())\n",
        "\n",
        "# 평균 계산 (개선 가능한 코드)\n",
        "average_age = 0\n",
        "for i in range(len(df)):\n",
        "    average_age += df.iloc[i]['age']\n",
        "average_age = average_age / len(df)\n",
        "\n",
        "print(f\"\\n평균 나이: {average_age}\")\n"
      ]
    },
    {
      "cell_type": "code",
      "execution_count": null,
      "metadata": {},
      "outputs": [],
      "source": [
        "# 시각화 (에러가 있는 코드)\n",
        "plt.figure(figsize=(8, 6))\n",
        "plt.bar(df['name'], df['salary'])\n",
        "plt.title('Salary by Person')\n",
        "plt.xlabel('Name')\n",
        "plt.ylabel('Salary')\n",
        "# plt.show()를 빼먹음 (의도적 오류)\n",
        "\n",
        "# 또 다른 문제가 있는 코드\n",
        "high_earners = df[df['salary'] > 60000]\n",
        "print(\"고소득자:\")\n",
        "for index, row in high_earners.iterrows():\n",
        "    print(f\"{row['name']}: ${row['salary']}\")\n"
      ]
    },
    {
      "cell_type": "code",
      "execution_count": null,
      "metadata": {},
      "outputs": [],
      "source": [
        "## 데이터 분석 결과\n",
        "\n",
        "위의 분석에서 다음과 같은 개선점들을 찾을 수 있습니다:\n",
        "\n",
        "1. 반복문 대신 pandas 내장 함수 사용\n",
        "2. 시각화 코드 완성\n",
        "3. 더 효율적인 데이터 필터링 방법\n"
      ]
    }
  ],
  "metadata": {
    "language_info": {
      "name": "python"
    }
  },
  "nbformat": 4,
  "nbformat_minor": 2
}
