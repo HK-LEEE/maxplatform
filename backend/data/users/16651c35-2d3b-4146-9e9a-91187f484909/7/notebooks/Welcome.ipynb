{
 "cells": [
  {
   "cell_type": "markdown",
   "metadata": {
    "editable": true,
    "slideshow": {
     "slide_type": ""
    },
    "tags": []
   },
   "source": [
    "# Welcome to Your Jupyter Data Platform!\n",
    "\n",
    "이곳은 여러분의 개인 워크스페이스입니다. 다음과 같은 기능들을 활용하실 수 있습니다:\n",
    "\n",
    "## 주요 기능\n",
    "- 데이터 분석 및 시각화\n",
    "- 머신러닝 모델 개발\n",
    "- 단계별 결과 저장 및 재사용\n",
    "\n",
    "## 폴더 구조\n",
    "- `notebooks/`: 노트북 파일 저장\n",
    "- `data/`: 데이터 파일 저장\n",
    "- `outputs/`: 결과 파일 저장"
   ]
  },
  {
   "cell_type": "code",
   "execution_count": 1,
   "metadata": {},
   "outputs": [
    {
     "name": "stdout",
     "output_type": "stream",
     "text": [
      "환영합니다! 모든 라이브러리가 정상적으로 로드되었습니다.\n"
     ]
    }
   ],
   "source": [
    "# 기본 라이브러리 import\n",
    "import pandas as pd\n",
    "import numpy as np\n",
    "import matplotlib.pyplot as plt\n",
    "import seaborn as sns\n",
    "\n",
    "print('환영합니다! 모든 라이브러리가 정상적으로 로드되었습니다.')"
   ]
  },
  {
   "cell_type": "code",
   "execution_count": null,
   "metadata": {},
   "outputs": [],
   "source": []
  }
 ],
 "metadata": {
  "kernelspec": {
   "display_name": "Python 3 (ipykernel)",
   "language": "python",
   "name": "python3"
  },
  "language_info": {
   "codemirror_mode": {
    "name": "ipython",
    "version": 3
   },
   "file_extension": ".py",
   "mimetype": "text/x-python",
   "name": "python",
   "nbconvert_exporter": "python",
   "pygments_lexer": "ipython3",
   "version": "3.11.9"
  }
 },
 "nbformat": 4,
 "nbformat_minor": 4
}
