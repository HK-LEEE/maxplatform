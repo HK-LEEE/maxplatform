{
  "cells": [
    {
      "cell_type": "markdown",
      "metadata": {},
      "source": [
        "# Welcome to Your Jupyter Data Platform!\n",
        "\n",
        "이곳은 여러분의 개인 워크스페이스입니다. 다음과 같은 기능들을 활용하실 수 있습니다:\n",
        "\n",
        "## 주요 기능\n",
        "- 데이터 분석 및 시각화\n",
        "- 머신러닝 모델 개발\n",
        "- 단계별 결과 저장 및 재사용\n",
        "\n",
        "## 폴더 구조\n",
        "- `notebooks/`: 노트북 파일 저장\n",
        "- `data/`: 데이터 파일 저장\n",
        "- `outputs/`: 결과 파일 저장"
      ]
    },
    {
      "cell_type": "code",
      "execution_count": null,
      "metadata": {},
      "outputs": [],
      "source": [
        "# 기본 라이브러리 import\n",
        "import pandas as pd\n",
        "import numpy as np\n",
        "import matplotlib.pyplot as plt\n",
        "import seaborn as sns\n",
        "\n",
        "print('환영합니다! 모든 라이브러리가 정상적으로 로드되었습니다.')"
      ]
    }
  ],
  "metadata": {
    "kernelspec": {
      "display_name": "Python 3",
      "language": "python",
      "name": "python3"
    },
    "language_info": {
      "name": "python",
      "version": "3.8.0"
    }
  },
  "nbformat": 4,
  "nbformat_minor": 4
}