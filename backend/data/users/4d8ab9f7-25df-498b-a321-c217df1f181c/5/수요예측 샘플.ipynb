{
 "cells": [
  {
   "cell_type": "code",
   "execution_count": 1,
   "id": "b2932875-ff61-4a6d-b889-bce6ce98eb0c",
   "metadata": {},
   "outputs": [
    {
     "name": "stdout",
     "output_type": "stream",
     "text": [
      "hello\n"
     ]
    }
   ],
   "source": [
    "print('hello')"
   ]
  },
  {
   "cell_type": "code",
   "execution_count": 6,
   "id": "eb1adead-812f-4051-be9b-6c1c91167ec1",
   "metadata": {},
   "outputs": [
    {
     "name": "stdout",
     "output_type": "stream",
     "text": [
      "--------- 초기 데이터 (DataFrame) ---------\n",
      "   크기_sqft  방_개수  지어진_연도  가격_만원\n",
      "0     1500     3    2005  30000\n",
      "1     1800     4    2010  40000\n",
      "2     1300     3    2002  28000\n",
      "3     2400     5    2015  55000\n",
      "4     2000     4    2012  48000\n",
      "5     1600     3    2008  32000\n",
      "6     2200     4    2018  52000\n",
      "7     1400     3    2003  29000\n",
      "8     2600     5    2020  60000\n",
      "9     1900     4    2011  42000\n",
      "\n",
      "\n",
      "--------- 훈련 데이터 (X_train) ---------\n",
      "   크기_sqft  방_개수  지어진_연도\n",
      "5     1600     3    2008\n",
      "0     1500     3    2005\n",
      "7     1400     3    2003\n",
      "2     1300     3    2002\n",
      "9     1900     4    2011\n",
      "4     2000     4    2012\n",
      "3     2400     5    2015\n",
      "6     2200     4    2018\n",
      "\n",
      "\n",
      "--------- 모델 훈련 완료 ---------\n",
      "\n",
      "--------- 모델 평가 결과 ---------\n",
      "평균 제곱 오차 (MSE): 27623300.00\n",
      "평균 제곱근 오차 (RMSE): 5255.79\n",
      "R^2 (결정 계수): 0.72\n",
      "\n",
      "\n",
      "--------- 실제 가격 vs 예측 가격 ---------\n",
      "   실제_가격    예측_가격\n",
      "8  60000  52710.0\n",
      "1  40000  41450.0\n"
     ]
    }
   ],
   "source": [
    "import pandas as pd\n",
    "from sklearn.model_selection import train_test_split\n",
    "from sklearn.ensemble import RandomForestRegressor\n",
    "from sklearn.metrics import mean_squared_error, r2_score\n",
    "import numpy as np\n",
    "\n",
    "# 1. 데이터 준비 (샘플 DataFrame 생성)\n",
    "# 실제 상황에서는 이 부분을 pd.read_csv('your_data.csv') 등으로 대체합니다.\n",
    "data = {\n",
    "    '크기_sqft': [1500, 1800, 1300, 2400, 2000, 1600, 2200, 1400, 2600, 1900],\n",
    "    '방_개수': [3, 4, 3, 5, 4, 3, 4, 3, 5, 4],\n",
    "    '지어진_연도': [2005, 2010, 2002, 2015, 2012, 2008, 2018, 2003, 2020, 2011],\n",
    "    '가격_만원': [30000, 40000, 28000, 55000, 48000, 32000, 52000, 29000, 60000, 42000]\n",
    "}\n",
    "df = pd.DataFrame(data)\n",
    "\n",
    "print(\"--------- 초기 데이터 (DataFrame) ---------\")\n",
    "print(df)\n",
    "print(\"\\n\")\n",
    "\n",
    "\n",
    "# 2. 데이터 분리\n",
    "# a) 피처(X)와 타겟(y) 분리\n",
    "#    - X: 예측에 사용할 입력 변수들 ('크기', '방_개수', '지어진_연도')\n",
    "#    - y: 예측하고자 하는 목표 변수 ('가격_만원')\n",
    "X = df[['크기_sqft', '방_개수', '지어진_연도']]\n",
    "y = df['가격_만원']\n",
    "\n",
    "# b) 훈련 데이터와 테스트 데이터로 분리 (80% 훈련, 20% 테스트)\n",
    "#    - random_state: 재현 가능성을 위해 난수 시드를 고정\n",
    "X_train, X_test, y_train, y_test = train_test_split(X, y, test_size=0.2, random_state=42)\n",
    "\n",
    "print(\"--------- 훈련 데이터 (X_train) ---------\")\n",
    "print(X_train)\n",
    "print(\"\\n\")\n",
    "\n",
    "\n",
    "# 3. 모델 선택 및 훈련\n",
    "#    - RandomForestRegressor: 여러 개의 의사결정 나무를 사용하는 앙상블 모델로, 일반적으로 성능이 좋습니다.\n",
    "#    - n_estimators: 사용할 나무의 개수\n",
    "model = RandomForestRegressor(n_estimators=100, random_state=42)\n",
    "\n",
    "#    - fit() 메서드를 사용하여 모델을 훈련시킵니다.\n",
    "model.fit(X_train, y_train)\n",
    "print(\"--------- 모델 훈련 완료 ---------\\n\")\n",
    "\n",
    "\n",
    "# 4. 예측 수행\n",
    "#    - 훈련에 사용하지 않은 '테스트 데이터(X_test)'를 가지고 예측을 수행합니다.\n",
    "y_pred = model.predict(X_test)\n",
    "\n",
    "\n",
    "# 5. 모델 평가\n",
    "#    - MSE (평균 제곱 오차): 예측값과 실제값의 차이의 제곱 평균. 작을수록 좋습니다.\n",
    "#    - RMSE (평균 제곱근 오차): MSE에 루트를 씌운 값. 실제 값과 비슷한 단위를 가집니다.\n",
    "#    - R^2 (결정 계수): 모델이 데이터를 얼마나 잘 설명하는지 나타내는 지표. 1에 가까울수록 좋습니다.\n",
    "mse = mean_squared_error(y_test, y_pred)\n",
    "rmse = np.sqrt(mse)\n",
    "r2 = r2_score(y_test, y_pred)\n",
    "\n",
    "print(\"--------- 모델 평가 결과 ---------\")\n",
    "print(f\"평균 제곱 오차 (MSE): {mse:.2f}\")\n",
    "print(f\"평균 제곱근 오차 (RMSE): {rmse:.2f}\")\n",
    "print(f\"R^2 (결정 계수): {r2:.2f}\")\n",
    "print(\"\\n\")\n",
    "\n",
    "\n",
    "# 6. 예측 결과 비교\n",
    "#    - 실제 가격과 모델이 예측한 가격을 비교하여 확인합니다.\n",
    "results = pd.DataFrame({'실제_가격': y_test, '예측_가격': y_pred})\n",
    "print(\"--------- 실제 가격 vs 예측 가격 ---------\")\n",
    "print(results)"
   ]
  }
 ],
 "metadata": {
  "kernelspec": {
   "display_name": "Python 3 (ipykernel)",
   "language": "python",
   "name": "python3"
  },
  "language_info": {
   "codemirror_mode": {
    "name": "ipython",
    "version": 3
   },
   "file_extension": ".py",
   "mimetype": "text/x-python",
   "name": "python",
   "nbconvert_exporter": "python",
   "pygments_lexer": "ipython3",
   "version": "3.11.9"
  }
 },
 "nbformat": 4,
 "nbformat_minor": 5
}
